{
  "nbformat": 4,
  "nbformat_minor": 0,
  "metadata": {
    "colab": {
      "provenance": []
    },
    "kernelspec": {
      "name": "python3",
      "display_name": "Python 3"
    },
    "language_info": {
      "name": "python"
    }
  },
  "cells": [
    {
      "cell_type": "code",
      "source": [
        "import gradio as gr\n",
        "\n",
        "html_code = \"\"\"\n",
        "<div style=\"font-family: Arial, sans-serif; background-color: #0f0f0f; padding: 20px; color: #f1f1f1;\">\n",
        "    <div style=\"text-align: center; padding: 30px;\">\n",
        "        <h1 style=\"color: #facc15;\">📊 Consultoria Estatística por Denilson Oliveira</h1>\n",
        "        <h3 style=\"color: #38bdf8;\">Portfólio de Estatística</h3>\n",
        "        <p style=\"max-width: 800px; margin: auto;\">\n",
        "            Sou estudante de Estatística na Universidade Estadual da Paraíba (UEPB), com foco especial em estatística aplicada. Ao longo da graduação, venho explorando diferentes abordagens de análise de dados, sempre buscando integrar teoria e prática de forma efetiva.\n",
        "            <br><br>\n",
        "            Tenho experiência em análises de estatística espacial, modelos de sobrevivência e projeções de indicadores, utilizando dados reais para compreender padrões, identificar tendências e apoiar a tomada de decisões.\n",
        "            <br><br>\n",
        "            No meu dia a dia, faço uso de <b>R</b>, <b>Excel</b> ,  <b>Qgiz</b> e <b>Python</b> para manipulação, visualização e organização dos dados.\n",
        "        </p>\n",
        "    </div>\n",
        "\n",
        "    <hr style=\"margin: 40px 0; border-color: #333;\">\n",
        "\n",
        "    <div style=\"text-align: center;\">\n",
        "        <h2 style=\"color: #38bdf8;\">💼 Serviços de Consultoria</h2>\n",
        "    </div>\n",
        "\n",
        "    <div style=\"display: flex; flex-wrap: wrap; justify-content: center; gap: 30px; padding: 20px;\">\n",
        "        <div style=\"background-color: #1f1f1f; border-radius: 10px; box-shadow: 0 2px 10px rgba(255,255,255,0.05); width: 250px; padding: 20px;\">\n",
        "            <h3 style=\"color: #facc15;\">📈 Regressão Múltipla</h3>\n",
        "            <p>Modelagem com múltiplos preditores</p>\n",
        "            <p><b>R$ 70,00</b></p>\n",
        "        </div>\n",
        "\n",
        "        <div style=\"background-color: #1f1f1f; border-radius: 10px; box-shadow: 0 2px 10px rgba(255,255,255,0.05); width: 250px; padding: 20px;\">\n",
        "            <h3 style=\"color: #facc15;\">⏳ Análise de Sobrevivência</h3>\n",
        "            <p>Estudo do tempo até a ocorrência de eventos</p>\n",
        "            <p><b>R$ 80,00</b></p>\n",
        "        </div>\n",
        "\n",
        "        <div style=\"background-color: #1f1f1f; border-radius: 10px; box-shadow: 0 2px 10px rgba(255,255,255,0.05); width: 250px; padding: 20px;\">\n",
        "            <h3 style=\"color: #facc15;\">🔍 Análise de Cluster</h3>\n",
        "            <p>Agrupamento de dados semelhantes</p>\n",
        "            <p><b>R$ 90,00</b></p>\n",
        "        </div>\n",
        "\n",
        "        <div style=\"background-color: #1f1f1f; border-radius: 10px; box-shadow: 0 2px 10px rgba(255,255,255,0.05); width: 250px; padding: 20px;\">\n",
        "            <h3 style=\"color: #facc15;\">🗺️ Análise Espacial</h3>\n",
        "            <p>Estudos com dados geográficos/regionais</p>\n",
        "            <p><b>R$ 95,00</b></p>\n",
        "        </div>\n",
        "\n",
        "        <div style=\"background-color: #1f1f1f; border-radius: 10px; box-shadow: 0 2px 10px rgba(255,255,255,0.05); width: 250px; padding: 20px;\">\n",
        "            <h3 style=\"color: #facc15;\">📊 Processos Contínuos</h3>\n",
        "            <p>Modelagem estatística de tempo contínuo</p>\n",
        "            <p><b>R$ 100,00</b></p>\n",
        "        </div>\n",
        "\n",
        "        <div style=\"background-color: #1f1f1f; border-radius: 10px; box-shadow: 0 2px 10px rgba(255,255,255,0.05); width: 250px; padding: 20px;\">\n",
        "            <h3 style=\"color: #facc15;\">🧠 Regressão Logística</h3>\n",
        "            <p>Modelagem de variáveis categóricas</p>\n",
        "            <p><b>R$ 85,00</b></p>\n",
        "        </div>\n",
        "    </div>\n",
        "\n",
        "    <hr style=\"margin: 40px 0; border-color: #333;\">\n",
        "\n",
        "    <div style=\"text-align: center;\">\n",
        "        <h2 style=\"color: #38bdf8;\">📱 Contatos</h2>\n",
        "        <a href=\"https://wa.me/5583981719864\" target=\"_blank\" style=\"text-decoration: none;\">\n",
        "            <button style=\"background-color: #25D366; color: white; padding: 10px 20px; margin: 10px; border: none; border-radius: 8px; font-size: 16px;\">WhatsApp</button>\n",
        "        </a>\n",
        "        <a href=\"https://instagram.com/denilsonn_olliveiraa\" target=\"_blank\" style=\"text-decoration: none;\">\n",
        "            <button style=\"background-color: #C13584; color: white; padding: 10px 20px; margin: 10px; border: none; border-radius: 8px; font-size: 16px;\">Instagram</button>\n",
        "        </a>\n",
        "        <a href=\"mailto:odenilson462@gmail.com\" target=\"_blank\" style=\"text-decoration: none;\">\n",
        "            <button style=\"background-color: #0072c6; color: white; padding: 10px 20px; margin: 10px; border: none; border-radius: 8px; font-size: 16px;\">Email</button>\n",
        "        </a>\n",
        "    </div>\n",
        "</div>\n",
        "\"\"\"\n",
        "\n",
        "gr.Interface(lambda: html_code, inputs=[], outputs=gr.HTML(), title=\"Consultoria Estatística\").launch()\n"
      ],
      "metadata": {
        "colab": {
          "base_uri": "https://localhost:8080/",
          "height": 646
        },
        "id": "wYBBECXZ5WM0",
        "outputId": "b3430808-b2c9-41ba-fcad-59de964bdacb"
      },
      "execution_count": 7,
      "outputs": [
        {
          "output_type": "stream",
          "name": "stdout",
          "text": [
            "It looks like you are running Gradio on a hosted a Jupyter notebook. For the Gradio app to work, sharing must be enabled. Automatically setting `share=True` (you can turn this off by setting `share=False` in `launch()` explicitly).\n",
            "\n",
            "Colab notebook detected. To show errors in colab notebook, set debug=True in launch()\n",
            "* Running on public URL: https://88fd005876aa41b3b4.gradio.live\n",
            "\n",
            "This share link expires in 1 week. For free permanent hosting and GPU upgrades, run `gradio deploy` from the terminal in the working directory to deploy to Hugging Face Spaces (https://huggingface.co/spaces)\n"
          ]
        },
        {
          "output_type": "display_data",
          "data": {
            "text/plain": [
              "<IPython.core.display.HTML object>"
            ],
            "text/html": [
              "<div><iframe src=\"https://88fd005876aa41b3b4.gradio.live\" width=\"100%\" height=\"500\" allow=\"autoplay; camera; microphone; clipboard-read; clipboard-write;\" frameborder=\"0\" allowfullscreen></iframe></div>"
            ]
          },
          "metadata": {}
        },
        {
          "output_type": "execute_result",
          "data": {
            "text/plain": []
          },
          "metadata": {},
          "execution_count": 7
        }
      ]
    }
  ]
}